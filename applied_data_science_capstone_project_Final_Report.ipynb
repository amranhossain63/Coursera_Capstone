{
    "cells": [
        {
            "cell_type": "markdown",
            "metadata": {
                "collapsed": true
            },
            "source": "#  Capstone project Accident Data"
        },
        {
            "cell_type": "markdown",
            "metadata": {},
            "source": "## Introduction:\nRoad accidents are an unstoppable problem in our life and societies. Death on the road is a big puzzle in the current world. According to the World Health Organization(WHO), an estimated 1.35 million deaths worldwide were related to road traffic injuries in 2016 [1] .The death rate  has remained constant, compared to the world's population. Every 25 seconds, one person died in road accidents. In  2016, 34,436 motor vehicle crashes were recorded in the USA and 37,461 people died with an average of 102 per day [2].\nIn this work, I will try to find out the way to reduce the number of road accidents, by developing a machine learning model to predict the severity of accidents. When the road visibility and weather conditions are changing this model will alert the car user. \n"
        },
        {
            "cell_type": "markdown",
            "metadata": {},
            "source": "## Business Understanding: \n\nThe local government of Seattle is trying to implement some method to alert the car user, police , traffic system and health system about critical situations to reduce the death and injuries on the road.\nThe final capstone project in the IBM certificate course, we want to analyze the accident \u201cseverity\u201d in terms of human fatality, traffic delay, property damage, or any other type of accident bad impact. The data was collected by Seattle SPOT Traffic Management Division and provided by Coursera via a link. This dataset is updated weekly and is from 2004 to present. It contains information such as severity code, address type, location, collision type, weather, road condition, speeding, among others.\nThe target audience of the project is local Seattle government, police, rescue groups, and last but not least, car insurance institutes. The model and its results are going to provide some advice for the target audience to make insightful decisions for reducing the number of accidents and injuries for the city.\n"
        },
        {
            "cell_type": "code",
            "execution_count": 1,
            "metadata": {},
            "outputs": [],
            "source": "import pandas as pd\nimport numpy as np\nimport matplotlib.pyplot as plt\nimport seaborn as sns\nimport datetime as dt\n\n%matplotlib inline"
        },
        {
            "cell_type": "markdown",
            "metadata": {},
            "source": "# Downloading Dataset"
        },
        {
            "cell_type": "code",
            "execution_count": 2,
            "metadata": {
                "scrolled": false
            },
            "outputs": [
                {
                    "name": "stdout",
                    "output_type": "stream",
                    "text": "--2020-09-14 14:18:19--  https://s3.us.cloud-object-storage.appdomain.cloud/cf-courses-data/CognitiveClass/DP0701EN/version-2/Data-Collisions.csv\nResolving s3.us.cloud-object-storage.appdomain.cloud (s3.us.cloud-object-storage.appdomain.cloud)... 67.228.254.196\nConnecting to s3.us.cloud-object-storage.appdomain.cloud (s3.us.cloud-object-storage.appdomain.cloud)|67.228.254.196|:443... connected.\nHTTP request sent, awaiting response... 200 OK\nLength: 73917638 (70M) [text/csv]\nSaving to: \u2018Data-Collisions.csv\u2019\n\n100%[======================================>] 73,917,638   712KB/s   in 80s    \n\n2020-09-14 14:19:39 (906 KB/s) - \u2018Data-Collisions.csv\u2019 saved [73917638/73917638]\n\n"
                }
            ],
            "source": "! wget https://s3.us.cloud-object-storage.appdomain.cloud/cf-courses-data/CognitiveClass/DP0701EN/version-2/Data-Collisions.csv"
        },
        {
            "cell_type": "markdown",
            "metadata": {},
            "source": "## Load Data"
        },
        {
            "cell_type": "code",
            "execution_count": 3,
            "metadata": {
                "scrolled": true
            },
            "outputs": [
                {
                    "name": "stderr",
                    "output_type": "stream",
                    "text": "/opt/conda/envs/Python36/lib/python3.6/site-packages/IPython/core/interactiveshell.py:3020: DtypeWarning: Columns (33) have mixed types. Specify dtype option on import or set low_memory=False.\n  interactivity=interactivity, compiler=compiler, result=result)\n"
                },
                {
                    "data": {
                        "text/html": "<div>\n<style scoped>\n    .dataframe tbody tr th:only-of-type {\n        vertical-align: middle;\n    }\n\n    .dataframe tbody tr th {\n        vertical-align: top;\n    }\n\n    .dataframe thead th {\n        text-align: right;\n    }\n</style>\n<table border=\"1\" class=\"dataframe\">\n  <thead>\n    <tr style=\"text-align: right;\">\n      <th></th>\n      <th>SEVERITYCODE</th>\n      <th>X</th>\n      <th>Y</th>\n      <th>OBJECTID</th>\n      <th>INCKEY</th>\n      <th>COLDETKEY</th>\n      <th>REPORTNO</th>\n      <th>STATUS</th>\n      <th>ADDRTYPE</th>\n      <th>INTKEY</th>\n      <th>...</th>\n      <th>ROADCOND</th>\n      <th>LIGHTCOND</th>\n      <th>PEDROWNOTGRNT</th>\n      <th>SDOTCOLNUM</th>\n      <th>SPEEDING</th>\n      <th>ST_COLCODE</th>\n      <th>ST_COLDESC</th>\n      <th>SEGLANEKEY</th>\n      <th>CROSSWALKKEY</th>\n      <th>HITPARKEDCAR</th>\n    </tr>\n  </thead>\n  <tbody>\n    <tr>\n      <th>0</th>\n      <td>2</td>\n      <td>-122.323148</td>\n      <td>47.703140</td>\n      <td>1</td>\n      <td>1307</td>\n      <td>1307</td>\n      <td>3502005</td>\n      <td>Matched</td>\n      <td>Intersection</td>\n      <td>37475.0</td>\n      <td>...</td>\n      <td>Wet</td>\n      <td>Daylight</td>\n      <td>NaN</td>\n      <td>NaN</td>\n      <td>NaN</td>\n      <td>10</td>\n      <td>Entering at angle</td>\n      <td>0</td>\n      <td>0</td>\n      <td>N</td>\n    </tr>\n    <tr>\n      <th>1</th>\n      <td>1</td>\n      <td>-122.347294</td>\n      <td>47.647172</td>\n      <td>2</td>\n      <td>52200</td>\n      <td>52200</td>\n      <td>2607959</td>\n      <td>Matched</td>\n      <td>Block</td>\n      <td>NaN</td>\n      <td>...</td>\n      <td>Wet</td>\n      <td>Dark - Street Lights On</td>\n      <td>NaN</td>\n      <td>6354039.0</td>\n      <td>NaN</td>\n      <td>11</td>\n      <td>From same direction - both going straight - bo...</td>\n      <td>0</td>\n      <td>0</td>\n      <td>N</td>\n    </tr>\n    <tr>\n      <th>2</th>\n      <td>1</td>\n      <td>-122.334540</td>\n      <td>47.607871</td>\n      <td>3</td>\n      <td>26700</td>\n      <td>26700</td>\n      <td>1482393</td>\n      <td>Matched</td>\n      <td>Block</td>\n      <td>NaN</td>\n      <td>...</td>\n      <td>Dry</td>\n      <td>Daylight</td>\n      <td>NaN</td>\n      <td>4323031.0</td>\n      <td>NaN</td>\n      <td>32</td>\n      <td>One parked--one moving</td>\n      <td>0</td>\n      <td>0</td>\n      <td>N</td>\n    </tr>\n    <tr>\n      <th>3</th>\n      <td>1</td>\n      <td>-122.334803</td>\n      <td>47.604803</td>\n      <td>4</td>\n      <td>1144</td>\n      <td>1144</td>\n      <td>3503937</td>\n      <td>Matched</td>\n      <td>Block</td>\n      <td>NaN</td>\n      <td>...</td>\n      <td>Dry</td>\n      <td>Daylight</td>\n      <td>NaN</td>\n      <td>NaN</td>\n      <td>NaN</td>\n      <td>23</td>\n      <td>From same direction - all others</td>\n      <td>0</td>\n      <td>0</td>\n      <td>N</td>\n    </tr>\n    <tr>\n      <th>4</th>\n      <td>2</td>\n      <td>-122.306426</td>\n      <td>47.545739</td>\n      <td>5</td>\n      <td>17700</td>\n      <td>17700</td>\n      <td>1807429</td>\n      <td>Matched</td>\n      <td>Intersection</td>\n      <td>34387.0</td>\n      <td>...</td>\n      <td>Wet</td>\n      <td>Daylight</td>\n      <td>NaN</td>\n      <td>4028032.0</td>\n      <td>NaN</td>\n      <td>10</td>\n      <td>Entering at angle</td>\n      <td>0</td>\n      <td>0</td>\n      <td>N</td>\n    </tr>\n  </tbody>\n</table>\n<p>5 rows \u00d7 38 columns</p>\n</div>",
                        "text/plain": "   SEVERITYCODE           X          Y  OBJECTID  INCKEY  COLDETKEY REPORTNO  \\\n0             2 -122.323148  47.703140         1    1307       1307  3502005   \n1             1 -122.347294  47.647172         2   52200      52200  2607959   \n2             1 -122.334540  47.607871         3   26700      26700  1482393   \n3             1 -122.334803  47.604803         4    1144       1144  3503937   \n4             2 -122.306426  47.545739         5   17700      17700  1807429   \n\n    STATUS      ADDRTYPE   INTKEY  ... ROADCOND                LIGHTCOND  \\\n0  Matched  Intersection  37475.0  ...      Wet                 Daylight   \n1  Matched         Block      NaN  ...      Wet  Dark - Street Lights On   \n2  Matched         Block      NaN  ...      Dry                 Daylight   \n3  Matched         Block      NaN  ...      Dry                 Daylight   \n4  Matched  Intersection  34387.0  ...      Wet                 Daylight   \n\n  PEDROWNOTGRNT  SDOTCOLNUM SPEEDING ST_COLCODE  \\\n0           NaN         NaN      NaN         10   \n1           NaN   6354039.0      NaN         11   \n2           NaN   4323031.0      NaN         32   \n3           NaN         NaN      NaN         23   \n4           NaN   4028032.0      NaN         10   \n\n                                          ST_COLDESC  SEGLANEKEY  \\\n0                                  Entering at angle           0   \n1  From same direction - both going straight - bo...           0   \n2                             One parked--one moving           0   \n3                   From same direction - all others           0   \n4                                  Entering at angle           0   \n\n   CROSSWALKKEY  HITPARKEDCAR  \n0             0             N  \n1             0             N  \n2             0             N  \n3             0             N  \n4             0             N  \n\n[5 rows x 38 columns]"
                    },
                    "execution_count": 3,
                    "metadata": {},
                    "output_type": "execute_result"
                }
            ],
            "source": "collission_df = pd.read_csv('Data-Collisions.csv')\ncollission_df.head()"
        },
        {
            "cell_type": "code",
            "execution_count": 4,
            "metadata": {
                "scrolled": false
            },
            "outputs": [
                {
                    "name": "stdout",
                    "output_type": "stream",
                    "text": "<class 'pandas.core.frame.DataFrame'>\nRangeIndex: 194673 entries, 0 to 194672\nData columns (total 38 columns):\nSEVERITYCODE      194673 non-null int64\nX                 189339 non-null float64\nY                 189339 non-null float64\nOBJECTID          194673 non-null int64\nINCKEY            194673 non-null int64\nCOLDETKEY         194673 non-null int64\nREPORTNO          194673 non-null object\nSTATUS            194673 non-null object\nADDRTYPE          192747 non-null object\nINTKEY            65070 non-null float64\nLOCATION          191996 non-null object\nEXCEPTRSNCODE     84811 non-null object\nEXCEPTRSNDESC     5638 non-null object\nSEVERITYCODE.1    194673 non-null int64\nSEVERITYDESC      194673 non-null object\nCOLLISIONTYPE     189769 non-null object\nPERSONCOUNT       194673 non-null int64\nPEDCOUNT          194673 non-null int64\nPEDCYLCOUNT       194673 non-null int64\nVEHCOUNT          194673 non-null int64\nINCDATE           194673 non-null object\nINCDTTM           194673 non-null object\nJUNCTIONTYPE      188344 non-null object\nSDOT_COLCODE      194673 non-null int64\nSDOT_COLDESC      194673 non-null object\nINATTENTIONIND    29805 non-null object\nUNDERINFL         189789 non-null object\nWEATHER           189592 non-null object\nROADCOND          189661 non-null object\nLIGHTCOND         189503 non-null object\nPEDROWNOTGRNT     4667 non-null object\nSDOTCOLNUM        114936 non-null float64\nSPEEDING          9333 non-null object\nST_COLCODE        194655 non-null object\nST_COLDESC        189769 non-null object\nSEGLANEKEY        194673 non-null int64\nCROSSWALKKEY      194673 non-null int64\nHITPARKEDCAR      194673 non-null object\ndtypes: float64(4), int64(12), object(22)\nmemory usage: 56.4+ MB\n"
                }
            ],
            "source": "#Dataframe Details Info\ncollission_df.info()"
        },
        {
            "cell_type": "code",
            "execution_count": 5,
            "metadata": {
                "scrolled": true
            },
            "outputs": [
                {
                    "data": {
                        "text/plain": "(194673, 38)"
                    },
                    "execution_count": 5,
                    "metadata": {},
                    "output_type": "execute_result"
                }
            ],
            "source": "#shape of DataFrame\ncollission_df.shape"
        },
        {
            "cell_type": "markdown",
            "metadata": {},
            "source": "## Data Understanding:\n\nThe dataset we select has 194,673 rows and 37 different independent variables.We will use SEVERITY CODE as your dependent variable Y, with different independent variables X to identify the cause of road accidents and level of severity.The dataset are quite large, we need to filter out the missing value and delete the unrelated columns. Then we select the independent variables such as address type, weather, road condition, and light condition to compare with Y which may have more impact on the accidents.The dependent variable, \u201cSEVERITYCODE\u201d, contains numbers that correspond to different levels of severity caused by an accident .\nThe code that corresponds to the severity of the collision:\n- 3\u2014fatality\n- 2b\u2014serious injury\n- 2\u2014injury\n- 1\u2014prop damage\n- 0\u2014unknown\n\n\n- Other important variables include:\n- ADDRTYPE: Collision address type: Alley, Block, Intersection\n- LOCATION: Description of the general location of the collision\n- PERSONCOUNT: The total number of people involved in the collision helps identify severity involved\n- PEDCOUNT: The number of pedestrians involved in the collision helps identify severity involved\n- PEDCYLCOUNT: The number of bicycles involved in the collision helps identify severity involved\n- VEHCOUNT: The number of vehicles involved in the collision identify severity involved\n- INCDTTM : The date and time of the incident.\n- JUNCTIONTYPE: Category of junction at which collision took place helps identify where most collisions occur\n- WEATHER: A description of the weather conditions during the time of the collision\n- ROADCOND: The condition of the road during the collision\n- LIGHTCOND: The light conditions during the collision\n- SPEEDING: Whether or not speeding was a factor in the collision (Y/N)\n- SEGLANEKEY: A key for the lane segment in which the collision occurred\n- CROSSWALKKEY: A key for the crosswalk at which the collision occurred\n- HITPARKEDCAR: Whether or not the collision involved hitting a parked car\n\n\nFurthermore, because of the existence of null values in some records, the data needs to be preprocessed before any further processing.\n"
        },
        {
            "cell_type": "markdown",
            "metadata": {},
            "source": "# Cleaning the Data Set"
        },
        {
            "cell_type": "markdown",
            "metadata": {},
            "source": "### Convert incident date to Year Month Day of Week"
        },
        {
            "cell_type": "code",
            "execution_count": 6,
            "metadata": {
                "scrolled": true
            },
            "outputs": [],
            "source": "collission_df['INCDATE']=collission_df['INCDATE'].str[:10]\n\ncollission_df[['YEAR', 'MONTH','DAY']]=collission_df[\"INCDATE\"].str.split(\"/\", expand=True)\n\ncollission_df['INCDATE'] = pd.to_datetime(collission_df['INCDATE'])\n\ncollission_df['DAYOFWEEK'] = collission_df['INCDATE'].dt.dayofweek"
        },
        {
            "cell_type": "markdown",
            "metadata": {},
            "source": "## Drop the unnecessary columns"
        },
        {
            "cell_type": "code",
            "execution_count": 7,
            "metadata": {
                "scrolled": false
            },
            "outputs": [
                {
                    "data": {
                        "text/html": "<div>\n<style scoped>\n    .dataframe tbody tr th:only-of-type {\n        vertical-align: middle;\n    }\n\n    .dataframe tbody tr th {\n        vertical-align: top;\n    }\n\n    .dataframe thead th {\n        text-align: right;\n    }\n</style>\n<table border=\"1\" class=\"dataframe\">\n  <thead>\n    <tr style=\"text-align: right;\">\n      <th></th>\n      <th>SEVERITYCODE</th>\n      <th>ADDRTYPE</th>\n      <th>LOCATION</th>\n      <th>SEVERITYDESC</th>\n      <th>COLLISIONTYPE</th>\n      <th>PERSONCOUNT</th>\n      <th>PEDCOUNT</th>\n      <th>PEDCYLCOUNT</th>\n      <th>VEHCOUNT</th>\n      <th>JUNCTIONTYPE</th>\n      <th>...</th>\n      <th>WEATHER</th>\n      <th>ROADCOND</th>\n      <th>LIGHTCOND</th>\n      <th>ST_COLCODE</th>\n      <th>SEGLANEKEY</th>\n      <th>CROSSWALKKEY</th>\n      <th>HITPARKEDCAR</th>\n      <th>YEAR</th>\n      <th>MONTH</th>\n      <th>DAYOFWEEK</th>\n    </tr>\n  </thead>\n  <tbody>\n    <tr>\n      <th>0</th>\n      <td>2</td>\n      <td>Intersection</td>\n      <td>5TH AVE NE AND NE 103RD ST</td>\n      <td>Injury Collision</td>\n      <td>Angles</td>\n      <td>2</td>\n      <td>0</td>\n      <td>0</td>\n      <td>2</td>\n      <td>At Intersection (intersection related)</td>\n      <td>...</td>\n      <td>Overcast</td>\n      <td>Wet</td>\n      <td>Daylight</td>\n      <td>10</td>\n      <td>0</td>\n      <td>0</td>\n      <td>N</td>\n      <td>2013</td>\n      <td>03</td>\n      <td>2</td>\n    </tr>\n    <tr>\n      <th>1</th>\n      <td>1</td>\n      <td>Block</td>\n      <td>AURORA BR BETWEEN RAYE ST AND BRIDGE WAY N</td>\n      <td>Property Damage Only Collision</td>\n      <td>Sideswipe</td>\n      <td>2</td>\n      <td>0</td>\n      <td>0</td>\n      <td>2</td>\n      <td>Mid-Block (not related to intersection)</td>\n      <td>...</td>\n      <td>Raining</td>\n      <td>Wet</td>\n      <td>Dark - Street Lights On</td>\n      <td>11</td>\n      <td>0</td>\n      <td>0</td>\n      <td>N</td>\n      <td>2006</td>\n      <td>12</td>\n      <td>2</td>\n    </tr>\n    <tr>\n      <th>2</th>\n      <td>1</td>\n      <td>Block</td>\n      <td>4TH AVE BETWEEN SENECA ST AND UNIVERSITY ST</td>\n      <td>Property Damage Only Collision</td>\n      <td>Parked Car</td>\n      <td>4</td>\n      <td>0</td>\n      <td>0</td>\n      <td>3</td>\n      <td>Mid-Block (not related to intersection)</td>\n      <td>...</td>\n      <td>Overcast</td>\n      <td>Dry</td>\n      <td>Daylight</td>\n      <td>32</td>\n      <td>0</td>\n      <td>0</td>\n      <td>N</td>\n      <td>2004</td>\n      <td>11</td>\n      <td>3</td>\n    </tr>\n    <tr>\n      <th>3</th>\n      <td>1</td>\n      <td>Block</td>\n      <td>2ND AVE BETWEEN MARION ST AND MADISON ST</td>\n      <td>Property Damage Only Collision</td>\n      <td>Other</td>\n      <td>3</td>\n      <td>0</td>\n      <td>0</td>\n      <td>3</td>\n      <td>Mid-Block (not related to intersection)</td>\n      <td>...</td>\n      <td>Clear</td>\n      <td>Dry</td>\n      <td>Daylight</td>\n      <td>23</td>\n      <td>0</td>\n      <td>0</td>\n      <td>N</td>\n      <td>2013</td>\n      <td>03</td>\n      <td>4</td>\n    </tr>\n    <tr>\n      <th>4</th>\n      <td>2</td>\n      <td>Intersection</td>\n      <td>SWIFT AVE S AND SWIFT AV OFF RP</td>\n      <td>Injury Collision</td>\n      <td>Angles</td>\n      <td>2</td>\n      <td>0</td>\n      <td>0</td>\n      <td>2</td>\n      <td>At Intersection (intersection related)</td>\n      <td>...</td>\n      <td>Raining</td>\n      <td>Wet</td>\n      <td>Daylight</td>\n      <td>10</td>\n      <td>0</td>\n      <td>0</td>\n      <td>N</td>\n      <td>2004</td>\n      <td>01</td>\n      <td>2</td>\n    </tr>\n  </tbody>\n</table>\n<p>5 rows \u00d7 22 columns</p>\n</div>",
                        "text/plain": "   SEVERITYCODE      ADDRTYPE                                     LOCATION  \\\n0             2  Intersection                   5TH AVE NE AND NE 103RD ST   \n1             1         Block   AURORA BR BETWEEN RAYE ST AND BRIDGE WAY N   \n2             1         Block  4TH AVE BETWEEN SENECA ST AND UNIVERSITY ST   \n3             1         Block     2ND AVE BETWEEN MARION ST AND MADISON ST   \n4             2  Intersection              SWIFT AVE S AND SWIFT AV OFF RP   \n\n                     SEVERITYDESC COLLISIONTYPE  PERSONCOUNT  PEDCOUNT  \\\n0                Injury Collision        Angles            2         0   \n1  Property Damage Only Collision     Sideswipe            2         0   \n2  Property Damage Only Collision    Parked Car            4         0   \n3  Property Damage Only Collision         Other            3         0   \n4                Injury Collision        Angles            2         0   \n\n   PEDCYLCOUNT  VEHCOUNT                             JUNCTIONTYPE  ...  \\\n0            0         2   At Intersection (intersection related)  ...   \n1            0         2  Mid-Block (not related to intersection)  ...   \n2            0         3  Mid-Block (not related to intersection)  ...   \n3            0         3  Mid-Block (not related to intersection)  ...   \n4            0         2   At Intersection (intersection related)  ...   \n\n    WEATHER ROADCOND                LIGHTCOND ST_COLCODE SEGLANEKEY  \\\n0  Overcast      Wet                 Daylight         10          0   \n1   Raining      Wet  Dark - Street Lights On         11          0   \n2  Overcast      Dry                 Daylight         32          0   \n3     Clear      Dry                 Daylight         23          0   \n4   Raining      Wet                 Daylight         10          0   \n\n  CROSSWALKKEY  HITPARKEDCAR  YEAR MONTH DAYOFWEEK  \n0            0             N  2013    03         2  \n1            0             N  2006    12         2  \n2            0             N  2004    11         3  \n3            0             N  2013    03         4  \n4            0             N  2004    01         2  \n\n[5 rows x 22 columns]"
                    },
                    "execution_count": 7,
                    "metadata": {},
                    "output_type": "execute_result"
                }
            ],
            "source": "# Make a list of column to drop that won't be useful\ndrop_col_list = ['X','Y','OBJECTID','INCKEY','COLDETKEY','REPORTNO','STATUS','INTKEY','EXCEPTRSNCODE','EXCEPTRSNDESC','SEVERITYCODE.1','SDOT_COLDESC','SPEEDING','INATTENTIONIND','INCDTTM','PEDROWNOTGRNT','SDOTCOLNUM','ST_COLDESC','INCDATE','DAY']\ncollission_df = collission_df.drop(labels =drop_col_list, axis= 1)\ncollission_df.head()"
        },
        {
            "cell_type": "markdown",
            "metadata": {},
            "source": "### The graph show the number of person effected per year by car accident "
        },
        {
            "cell_type": "code",
            "execution_count": 8,
            "metadata": {},
            "outputs": [
                {
                    "data": {
                        "text/plain": "<matplotlib.axes._subplots.AxesSubplot at 0x7fd4c16bcd30>"
                    },
                    "execution_count": 8,
                    "metadata": {},
                    "output_type": "execute_result"
                },
                {
                    "data": {
                        "image/png": "[encoded data removed]",
                        "text/plain": "<Figure size 432x288 with 1 Axes>"
                    },
                    "metadata": {
                        "needs_background": "light"
                    },
                    "output_type": "display_data"
                }
            ],
            "source": "collission_df[['YEAR', 'PERSONCOUNT']].groupby('YEAR').sum().plot(kind='bar')"
        },
        {
            "cell_type": "markdown",
            "metadata": {},
            "source": "### The graph show the number of person effected per Month by car accident "
        },
        {
            "cell_type": "code",
            "execution_count": 9,
            "metadata": {
                "scrolled": true
            },
            "outputs": [
                {
                    "data": {
                        "text/plain": "<matplotlib.axes._subplots.AxesSubplot at 0x7fd4c16d2358>"
                    },
                    "execution_count": 9,
                    "metadata": {},
                    "output_type": "execute_result"
                },
                {
                    "data": {
                        "image/png": "[encoded data removed]",
                        "text/plain": "<Figure size 432x288 with 1 Axes>"
                    },
                    "metadata": {
                        "needs_background": "light"
                    },
                    "output_type": "display_data"
                }
            ],
            "source": "collission_df[['MONTH', 'PERSONCOUNT']].groupby('MONTH').sum().plot(kind='bar')"
        },
        {
            "cell_type": "markdown",
            "metadata": {},
            "source": "### The graph show the number of person effected per Week day by car accident  \nHere days are \n- 0  #Monday\n- 1  #Tuesday\n- 2  #Wednesday\n- 3  #Thursday\n- 4  #Friday\n- 5  #Saturday\n- 6  #Sunday"
        },
        {
            "cell_type": "code",
            "execution_count": 10,
            "metadata": {},
            "outputs": [
                {
                    "data": {
                        "text/plain": "<matplotlib.axes._subplots.AxesSubplot at 0x7fd4c170ed30>"
                    },
                    "execution_count": 10,
                    "metadata": {},
                    "output_type": "execute_result"
                },
                {
                    "data": {
                        "image/png": "[encoded data removed]",
                        "text/plain": "<Figure size 432x288 with 1 Axes>"
                    },
                    "metadata": {
                        "needs_background": "light"
                    },
                    "output_type": "display_data"
                }
            ],
            "source": "collission_df[['DAYOFWEEK', 'PERSONCOUNT']].groupby('DAYOFWEEK').sum().plot(kind='bar')"
        },
        {
            "cell_type": "code",
            "execution_count": 11,
            "metadata": {},
            "outputs": [
                {
                    "data": {
                        "text/html": "<div>\n<style scoped>\n    .dataframe tbody tr th:only-of-type {\n        vertical-align: middle;\n    }\n\n    .dataframe tbody tr th {\n        vertical-align: top;\n    }\n\n    .dataframe thead th {\n        text-align: right;\n    }\n</style>\n<table border=\"1\" class=\"dataframe\">\n  <thead>\n    <tr style=\"text-align: right;\">\n      <th></th>\n      <th>PERSONCOUNT</th>\n      <th>PEDCOUNT</th>\n      <th>PEDCYLCOUNT</th>\n      <th>VEHCOUNT</th>\n      <th>SDOT_COLCODE</th>\n      <th>SEGLANEKEY</th>\n      <th>CROSSWALKKEY</th>\n      <th>DAYOFWEEK</th>\n    </tr>\n    <tr>\n      <th>SEVERITYCODE</th>\n      <th></th>\n      <th></th>\n      <th></th>\n      <th></th>\n      <th></th>\n      <th></th>\n      <th></th>\n      <th></th>\n    </tr>\n  </thead>\n  <tbody>\n    <tr>\n      <th>1</th>\n      <td>317921</td>\n      <td>719</td>\n      <td>679</td>\n      <td>265233</td>\n      <td>1777110</td>\n      <td>5956749</td>\n      <td>207489439</td>\n      <td>403703</td>\n    </tr>\n    <tr>\n      <th>2</th>\n      <td>157943</td>\n      <td>6511</td>\n      <td>4848</td>\n      <td>108691</td>\n      <td>922570</td>\n      <td>46488374</td>\n      <td>1696889835</td>\n      <td>168388</td>\n    </tr>\n  </tbody>\n</table>\n</div>",
                        "text/plain": "              PERSONCOUNT  PEDCOUNT  PEDCYLCOUNT  VEHCOUNT  SDOT_COLCODE  \\\nSEVERITYCODE                                                               \n1                  317921       719          679    265233       1777110   \n2                  157943      6511         4848    108691        922570   \n\n              SEGLANEKEY  CROSSWALKKEY  DAYOFWEEK  \nSEVERITYCODE                                       \n1                5956749     207489439     403703  \n2               46488374    1696889835     168388  "
                    },
                    "execution_count": 11,
                    "metadata": {},
                    "output_type": "execute_result"
                }
            ],
            "source": "collission_df.groupby('SEVERITYCODE').sum()"
        },
        {
            "cell_type": "code",
            "execution_count": 12,
            "metadata": {},
            "outputs": [
                {
                    "data": {
                        "text/plain": "<matplotlib.axes._subplots.AxesSubplot at 0x7fd4c17b42b0>"
                    },
                    "execution_count": 12,
                    "metadata": {},
                    "output_type": "execute_result"
                },
                {
                    "data": {
                        "image/png": "[encoded data removed]",
                        "text/plain": "<Figure size 432x288 with 1 Axes>"
                    },
                    "metadata": {
                        "needs_background": "light"
                    },
                    "output_type": "display_data"
                }
            ],
            "source": "collission_df[['SEVERITYCODE','PERSONCOUNT']].groupby('SEVERITYCODE').sum().plot(kind='bar')"
        },
        {
            "cell_type": "markdown",
            "metadata": {},
            "source": "### Convert Categorical features to numerical value"
        },
        {
            "cell_type": "code",
            "execution_count": 13,
            "metadata": {},
            "outputs": [],
            "source": "#Replace addtype to numric \ncollission_df['ADDRTYPE'].replace(to_replace=['Block','Intersection', 'Alley'], value=[1, 2, 3],inplace=True)\n\n#Weather clear condition is nearly 60% for both severity codes. The options also include unknown and other which cannot be analyzed\n#Therefore, I normalize the data to good weather (clear - 1), nothing to do with weather (unknown & other - 0), bad weather (the rest -2)\ncollission_df['WEATHER'].replace(to_replace=['Clear', 'Raining', 'Overcast', 'Unknown', 'Fog/Smog/Smoke', 'Snowing', 'Other', 'Sleet/Hail/Freezing Rain', 'Blowing Sand/Dirt', 'Severe Crosswind', 'Partly Cloudy'], value=[1, 2, 2, 0, 2, 2, 0, 2, 2, 2, 2],inplace=True)\ncollission_df['HITPARKEDCAR'].replace(to_replace=['N', 'Y'], value=[0, 1], inplace=True)\n\n\ncollission_df['SEVERITYDESC'].replace(to_replace=['Property Damage Only Collision', 'Injury Collision'], value=[1, 2], inplace=True)\ncollission_df['COLLISIONTYPE'].replace(to_replace=['Parked Car', 'Angles', 'Rear Ended', 'Other', 'Sideswipe', 'Left Turn', 'Right Turn', 'Head On', 'Pedestrian', 'Cycles'], value=[1, 2, 3, 4, 5, 6, 7, 8, 9, 10], inplace=True) \n\n\ncollission_df['JUNCTIONTYPE'].replace(to_replace=['At Intersection (intersection related)', 'Mid-Block (not related to intersection)','Mid-Block (but intersection related)','Driveway Junction', 'At Intersection (but not related to intersection)', 'Ramp Junction', 'Unknown'], value=[1, 2, 3, 4, 5, 6, 7], inplace=True)\n\n\n\ncollission_df['ROADCOND'].replace(to_replace=['Dry','Wet', 'Unknown', 'Ice', 'Snow/Slush'\n                                    'Other', 'Standing Water', 'Sand/Mud/Dirt',\n                                    'Oil'], value=[1, 2, 3, 4, 5, 6, 7, 8],\n                        inplace=True)\ncollission_df['ROADCOND'] = pd.to_numeric(collission_df.ROADCOND, errors='coerce')\n\ncollission_df['LIGHTCOND'].replace(to_replace=['Daylight', 'Dark - Street Lights On', 'Unknown',\n                                     'Dusk', 'Dawn', 'Dark - No Street Lights', \n                                     'Dark - Street Lights Off', 'Other', 'Dark - Unknown Lighting'],\n                         value=[1, 2, 3, 4, 5, 6, 7, 8, 9], inplace=True)\n\ncollission_df['ST_COLCODE'] = pd.to_numeric(collission_df.ST_COLCODE, errors='coerce')\ncollission_df['SDOT_COLCODE'] = pd.to_numeric(collission_df.ST_COLCODE, errors='coerce')"
        },
        {
            "cell_type": "code",
            "execution_count": 14,
            "metadata": {},
            "outputs": [],
            "source": "#Drop NAN rows\ncollission_df=collission_df.dropna(subset = ['WEATHER','ROADCOND','LIGHTCOND','COLLISIONTYPE','LOCATION','JUNCTIONTYPE','ADDRTYPE'])  "
        },
        {
            "cell_type": "code",
            "execution_count": 15,
            "metadata": {},
            "outputs": [
                {
                    "data": {
                        "text/html": "<div>\n<style scoped>\n    .dataframe tbody tr th:only-of-type {\n        vertical-align: middle;\n    }\n\n    .dataframe tbody tr th {\n        vertical-align: top;\n    }\n\n    .dataframe thead th {\n        text-align: right;\n    }\n</style>\n<table border=\"1\" class=\"dataframe\">\n  <thead>\n    <tr style=\"text-align: right;\">\n      <th></th>\n      <th>SEVERITYCODE</th>\n      <th>ADDRTYPE</th>\n      <th>LOCATION</th>\n      <th>SEVERITYDESC</th>\n      <th>COLLISIONTYPE</th>\n      <th>PERSONCOUNT</th>\n      <th>PEDCOUNT</th>\n      <th>PEDCYLCOUNT</th>\n      <th>VEHCOUNT</th>\n      <th>JUNCTIONTYPE</th>\n      <th>...</th>\n      <th>WEATHER</th>\n      <th>ROADCOND</th>\n      <th>LIGHTCOND</th>\n      <th>ST_COLCODE</th>\n      <th>SEGLANEKEY</th>\n      <th>CROSSWALKKEY</th>\n      <th>HITPARKEDCAR</th>\n      <th>YEAR</th>\n      <th>MONTH</th>\n      <th>DAYOFWEEK</th>\n    </tr>\n  </thead>\n  <tbody>\n    <tr>\n      <th>0</th>\n      <td>2</td>\n      <td>2.0</td>\n      <td>5TH AVE NE AND NE 103RD ST</td>\n      <td>2</td>\n      <td>2.0</td>\n      <td>2</td>\n      <td>0</td>\n      <td>0</td>\n      <td>2</td>\n      <td>1.0</td>\n      <td>...</td>\n      <td>2.0</td>\n      <td>2.0</td>\n      <td>1.0</td>\n      <td>10.0</td>\n      <td>0</td>\n      <td>0</td>\n      <td>0</td>\n      <td>2013</td>\n      <td>03</td>\n      <td>2</td>\n    </tr>\n    <tr>\n      <th>1</th>\n      <td>1</td>\n      <td>1.0</td>\n      <td>AURORA BR BETWEEN RAYE ST AND BRIDGE WAY N</td>\n      <td>1</td>\n      <td>5.0</td>\n      <td>2</td>\n      <td>0</td>\n      <td>0</td>\n      <td>2</td>\n      <td>2.0</td>\n      <td>...</td>\n      <td>2.0</td>\n      <td>2.0</td>\n      <td>2.0</td>\n      <td>11.0</td>\n      <td>0</td>\n      <td>0</td>\n      <td>0</td>\n      <td>2006</td>\n      <td>12</td>\n      <td>2</td>\n    </tr>\n    <tr>\n      <th>2</th>\n      <td>1</td>\n      <td>1.0</td>\n      <td>4TH AVE BETWEEN SENECA ST AND UNIVERSITY ST</td>\n      <td>1</td>\n      <td>1.0</td>\n      <td>4</td>\n      <td>0</td>\n      <td>0</td>\n      <td>3</td>\n      <td>2.0</td>\n      <td>...</td>\n      <td>2.0</td>\n      <td>1.0</td>\n      <td>1.0</td>\n      <td>32.0</td>\n      <td>0</td>\n      <td>0</td>\n      <td>0</td>\n      <td>2004</td>\n      <td>11</td>\n      <td>3</td>\n    </tr>\n    <tr>\n      <th>3</th>\n      <td>1</td>\n      <td>1.0</td>\n      <td>2ND AVE BETWEEN MARION ST AND MADISON ST</td>\n      <td>1</td>\n      <td>4.0</td>\n      <td>3</td>\n      <td>0</td>\n      <td>0</td>\n      <td>3</td>\n      <td>2.0</td>\n      <td>...</td>\n      <td>1.0</td>\n      <td>1.0</td>\n      <td>1.0</td>\n      <td>23.0</td>\n      <td>0</td>\n      <td>0</td>\n      <td>0</td>\n      <td>2013</td>\n      <td>03</td>\n      <td>4</td>\n    </tr>\n    <tr>\n      <th>4</th>\n      <td>2</td>\n      <td>2.0</td>\n      <td>SWIFT AVE S AND SWIFT AV OFF RP</td>\n      <td>2</td>\n      <td>2.0</td>\n      <td>2</td>\n      <td>0</td>\n      <td>0</td>\n      <td>2</td>\n      <td>1.0</td>\n      <td>...</td>\n      <td>2.0</td>\n      <td>2.0</td>\n      <td>1.0</td>\n      <td>10.0</td>\n      <td>0</td>\n      <td>0</td>\n      <td>0</td>\n      <td>2004</td>\n      <td>01</td>\n      <td>2</td>\n    </tr>\n  </tbody>\n</table>\n<p>5 rows \u00d7 22 columns</p>\n</div>",
                        "text/plain": "   SEVERITYCODE  ADDRTYPE                                     LOCATION  \\\n0             2       2.0                   5TH AVE NE AND NE 103RD ST   \n1             1       1.0   AURORA BR BETWEEN RAYE ST AND BRIDGE WAY N   \n2             1       1.0  4TH AVE BETWEEN SENECA ST AND UNIVERSITY ST   \n3             1       1.0     2ND AVE BETWEEN MARION ST AND MADISON ST   \n4             2       2.0              SWIFT AVE S AND SWIFT AV OFF RP   \n\n   SEVERITYDESC  COLLISIONTYPE  PERSONCOUNT  PEDCOUNT  PEDCYLCOUNT  VEHCOUNT  \\\n0             2            2.0            2         0            0         2   \n1             1            5.0            2         0            0         2   \n2             1            1.0            4         0            0         3   \n3             1            4.0            3         0            0         3   \n4             2            2.0            2         0            0         2   \n\n   JUNCTIONTYPE  ...  WEATHER ROADCOND  LIGHTCOND  ST_COLCODE  SEGLANEKEY  \\\n0           1.0  ...      2.0      2.0        1.0        10.0           0   \n1           2.0  ...      2.0      2.0        2.0        11.0           0   \n2           2.0  ...      2.0      1.0        1.0        32.0           0   \n3           2.0  ...      1.0      1.0        1.0        23.0           0   \n4           1.0  ...      2.0      2.0        1.0        10.0           0   \n\n   CROSSWALKKEY  HITPARKEDCAR  YEAR  MONTH DAYOFWEEK  \n0             0             0  2013     03         2  \n1             0             0  2006     12         2  \n2             0             0  2004     11         3  \n3             0             0  2013     03         4  \n4             0             0  2004     01         2  \n\n[5 rows x 22 columns]"
                    },
                    "execution_count": 15,
                    "metadata": {},
                    "output_type": "execute_result"
                }
            ],
            "source": "collission_df.head()"
        },
        {
            "cell_type": "code",
            "execution_count": 15,
            "metadata": {},
            "outputs": [
                {
                    "data": {
                        "text/plain": "SEVERITYCODE     0.0\nADDRTYPE         0.0\nLOCATION         0.0\nSEVERITYDESC     0.0\nCOLLISIONTYPE    0.0\nPERSONCOUNT      0.0\nPEDCOUNT         0.0\nPEDCYLCOUNT      0.0\nVEHCOUNT         0.0\nJUNCTIONTYPE     0.0\nSDOT_COLCODE     0.0\nUNDERINFL        0.0\nWEATHER          0.0\nROADCOND         0.0\nLIGHTCOND        0.0\nST_COLCODE       0.0\nSEGLANEKEY       0.0\nCROSSWALKKEY     0.0\nHITPARKEDCAR     0.0\nYEAR             0.0\nMONTH            0.0\nDAYOFWEEK        0.0\ndtype: float64"
                    },
                    "execution_count": 15,
                    "metadata": {},
                    "output_type": "execute_result"
                }
            ],
            "source": "collission_df.isna().sum()/len(collission_df)"
        },
        {
            "cell_type": "code",
            "execution_count": 16,
            "metadata": {},
            "outputs": [
                {
                    "data": {
                        "text/plain": "1    125171\n2     56389\nName: SEVERITYCODE, dtype: int64"
                    },
                    "execution_count": 16,
                    "metadata": {},
                    "output_type": "execute_result"
                }
            ],
            "source": "#we use a simple statistical technique to balance the target feature \"SEVERITYCODE\".\ncollission_df['SEVERITYCODE'].value_counts()"
        },
        {
            "cell_type": "code",
            "execution_count": 17,
            "metadata": {},
            "outputs": [
                {
                    "data": {
                        "text/plain": "2    56389\n1    56389\nName: SEVERITYCODE, dtype: int64"
                    },
                    "execution_count": 17,
                    "metadata": {},
                    "output_type": "execute_result"
                }
            ],
            "source": "#the value of 1 is almost three times bigger than the value of 2. It is possible to solve the issue by downsampling the class 1\nfrom sklearn.utils import resample\ncollission_df_max = collission_df[collission_df.SEVERITYCODE ==1]\ncollission_df_min = collission_df[collission_df.SEVERITYCODE ==2]\ncollission_df_max_ds = resample(collission_df_max, \n                               replace = False,\n                               n_samples= 56389,\n                               random_state = 123\n                              )\n\ncollission_df_balance = pd.concat([collission_df_max_ds,collission_df_min])\ncollission_df_balance.SEVERITYCODE.value_counts()"
        },
        {
            "cell_type": "code",
            "execution_count": 18,
            "metadata": {},
            "outputs": [
                {
                    "data": {
                        "text/plain": "1.0    108766\n2.0     60568\n0.0     12226\nName: WEATHER, dtype: int64"
                    },
                    "execution_count": 18,
                    "metadata": {},
                    "output_type": "execute_result"
                }
            ],
            "source": "collission_df['WEATHER'].value_counts()"
        },
        {
            "cell_type": "code",
            "execution_count": 19,
            "metadata": {},
            "outputs": [
                {
                    "data": {
                        "text/plain": "1.0    122002\n2.0     46671\n3.0     11479\n4.0      1176\n6.0       108\n7.0        64\n8.0        60\nName: ROADCOND, dtype: int64"
                    },
                    "execution_count": 19,
                    "metadata": {},
                    "output_type": "execute_result"
                }
            ],
            "source": "collission_df['ROADCOND'].value_counts()"
        },
        {
            "cell_type": "code",
            "execution_count": 20,
            "metadata": {},
            "outputs": [
                {
                    "data": {
                        "text/plain": "1.0    113306\n2.0     47028\n3.0     10277\n4.0      5744\n5.0      2420\n6.0      1432\n7.0      1142\n8.0       200\n9.0        11\nName: LIGHTCOND, dtype: int64"
                    },
                    "execution_count": 20,
                    "metadata": {},
                    "output_type": "execute_result"
                }
            ],
            "source": "collission_df['LIGHTCOND'].value_counts()"
        },
        {
            "cell_type": "code",
            "execution_count": 21,
            "metadata": {},
            "outputs": [
                {
                    "data": {
                        "text/plain": "1.0    118484\n2.0     63076\nName: ADDRTYPE, dtype: int64"
                    },
                    "execution_count": 21,
                    "metadata": {},
                    "output_type": "execute_result"
                }
            ],
            "source": "collission_df['ADDRTYPE'].value_counts()"
        },
        {
            "cell_type": "code",
            "execution_count": 22,
            "metadata": {},
            "outputs": [
                {
                    "data": {
                        "text/plain": "1.0     42534\n2.0     34339\n3.0     33522\n4.0     22619\n5.0     18239\n6.0     13607\n9.0      6470\n10.0     5352\n7.0      2919\n8.0      1959\nName: COLLISIONTYPE, dtype: int64"
                    },
                    "execution_count": 22,
                    "metadata": {},
                    "output_type": "execute_result"
                }
            ],
            "source": "collission_df['COLLISIONTYPE'].value_counts()"
        },
        {
            "cell_type": "code",
            "execution_count": 23,
            "metadata": {},
            "outputs": [
                {
                    "data": {
                        "text/plain": "2.0    85731\n1.0    60997\n3.0    22208\n4.0    10418\n5.0     2042\n6.0      159\n7.0        5\nName: JUNCTIONTYPE, dtype: int64"
                    },
                    "execution_count": 23,
                    "metadata": {},
                    "output_type": "execute_result"
                }
            ],
            "source": "collission_df['JUNCTIONTYPE'].value_counts()"
        },
        {
            "cell_type": "code",
            "execution_count": 24,
            "metadata": {},
            "outputs": [
                {
                    "data": {
                        "text/plain": "0    174762\n1      6545\n2       225\n3        22\n4         4\n6         1\n5         1\nName: PEDCOUNT, dtype: int64"
                    },
                    "execution_count": 24,
                    "metadata": {},
                    "output_type": "execute_result"
                }
            ],
            "source": "collission_df['PEDCOUNT'].value_counts()"
        },
        {
            "cell_type": "code",
            "execution_count": 25,
            "metadata": {},
            "outputs": [
                {
                    "data": {
                        "text/plain": "0    176155\n1      5364\n2        41\nName: PEDCYLCOUNT, dtype: int64"
                    },
                    "execution_count": 25,
                    "metadata": {},
                    "output_type": "execute_result"
                }
            ],
            "source": "collission_df['PEDCYLCOUNT'].value_counts()"
        },
        {
            "cell_type": "markdown",
            "metadata": {},
            "source": "## Define Feature data set for X"
        },
        {
            "cell_type": "code",
            "execution_count": 26,
            "metadata": {},
            "outputs": [
                {
                    "data": {
                        "text/html": "<div>\n<style scoped>\n    .dataframe tbody tr th:only-of-type {\n        vertical-align: middle;\n    }\n\n    .dataframe tbody tr th {\n        vertical-align: top;\n    }\n\n    .dataframe thead th {\n        text-align: right;\n    }\n</style>\n<table border=\"1\" class=\"dataframe\">\n  <thead>\n    <tr style=\"text-align: right;\">\n      <th></th>\n      <th>WEATHER</th>\n      <th>ROADCOND</th>\n      <th>LIGHTCOND</th>\n      <th>ADDRTYPE</th>\n      <th>COLLISIONTYPE</th>\n      <th>JUNCTIONTYPE</th>\n      <th>PEDCOUNT</th>\n      <th>PEDCYLCOUNT</th>\n    </tr>\n  </thead>\n  <tbody>\n    <tr>\n      <th>23477</th>\n      <td>2.0</td>\n      <td>1.0</td>\n      <td>2.0</td>\n      <td>2.0</td>\n      <td>6.0</td>\n      <td>1.0</td>\n      <td>0</td>\n      <td>0</td>\n    </tr>\n    <tr>\n      <th>130631</th>\n      <td>1.0</td>\n      <td>1.0</td>\n      <td>1.0</td>\n      <td>1.0</td>\n      <td>3.0</td>\n      <td>3.0</td>\n      <td>0</td>\n      <td>0</td>\n    </tr>\n    <tr>\n      <th>96633</th>\n      <td>2.0</td>\n      <td>1.0</td>\n      <td>1.0</td>\n      <td>2.0</td>\n      <td>2.0</td>\n      <td>1.0</td>\n      <td>0</td>\n      <td>0</td>\n    </tr>\n    <tr>\n      <th>52708</th>\n      <td>2.0</td>\n      <td>2.0</td>\n      <td>1.0</td>\n      <td>1.0</td>\n      <td>3.0</td>\n      <td>3.0</td>\n      <td>0</td>\n      <td>0</td>\n    </tr>\n    <tr>\n      <th>77256</th>\n      <td>1.0</td>\n      <td>1.0</td>\n      <td>1.0</td>\n      <td>1.0</td>\n      <td>4.0</td>\n      <td>2.0</td>\n      <td>0</td>\n      <td>0</td>\n    </tr>\n  </tbody>\n</table>\n</div>",
                        "text/plain": "        WEATHER  ROADCOND  LIGHTCOND  ADDRTYPE  COLLISIONTYPE  JUNCTIONTYPE  \\\n23477       2.0       1.0        2.0       2.0            6.0           1.0   \n130631      1.0       1.0        1.0       1.0            3.0           3.0   \n96633       2.0       1.0        1.0       2.0            2.0           1.0   \n52708       2.0       2.0        1.0       1.0            3.0           3.0   \n77256       1.0       1.0        1.0       1.0            4.0           2.0   \n\n        PEDCOUNT  PEDCYLCOUNT  \n23477          0            0  \n130631         0            0  \n96633          0            0  \n52708          0            0  \n77256          0            0  "
                    },
                    "execution_count": 26,
                    "metadata": {},
                    "output_type": "execute_result"
                }
            ],
            "source": "ft_df = collission_df_balance[['WEATHER','ROADCOND','LIGHTCOND','ADDRTYPE','COLLISIONTYPE','JUNCTIONTYPE','PEDCOUNT','PEDCYLCOUNT']]\nX = ft_df\nX[0:5]"
        },
        {
            "cell_type": "code",
            "execution_count": 27,
            "metadata": {},
            "outputs": [
                {
                    "data": {
                        "text/plain": "array([1, 1, 1, 1, 1])"
                    },
                    "execution_count": 27,
                    "metadata": {},
                    "output_type": "execute_result"
                }
            ],
            "source": "y = collission_df_balance['SEVERITYCODE'].values\ny[0:5]"
        },
        {
            "cell_type": "markdown",
            "metadata": {},
            "source": "# Train-Test Split"
        },
        {
            "cell_type": "code",
            "execution_count": 28,
            "metadata": {},
            "outputs": [
                {
                    "name": "stdout",
                    "output_type": "stream",
                    "text": "Train set: (78944, 8) (78944,)\nTest set: (33834, 8) (33834,)\n"
                }
            ],
            "source": "#import train_test_split\nfrom sklearn.model_selection import train_test_split\n\nX_train, X_test, y_train, y_test = train_test_split( X, y, test_size=0.3, random_state=4)\nprint ('Train set:', X_train.shape,  y_train.shape)\nprint ('Test set:', X_test.shape,  y_test.shape)"
        },
        {
            "cell_type": "markdown",
            "metadata": {},
            "source": "## Normalize Data"
        },
        {
            "cell_type": "code",
            "execution_count": 29,
            "metadata": {},
            "outputs": [
                {
                    "name": "stderr",
                    "output_type": "stream",
                    "text": "/opt/conda/envs/Python36/lib/python3.6/site-packages/sklearn/preprocessing/data.py:645: DataConversionWarning: Data with input dtype int64, float64 were all converted to float64 by StandardScaler.\n  return self.partial_fit(X, y)\n/opt/conda/envs/Python36/lib/python3.6/site-packages/ipykernel/__main__.py:3: DataConversionWarning: Data with input dtype int64, float64 were all converted to float64 by StandardScaler.\n  app.launch_new_instance()\n"
                },
                {
                    "data": {
                        "text/plain": "array([[ 1.27810966, -0.60527457,  0.40887665,  1.26726358,  0.91293987,\n        -0.99036607, -0.23932877, -0.21512352],\n       [-0.5149324 , -0.60527457, -0.56135692, -0.78910182, -0.2855368 ,\n         1.20731221, -0.23932877, -0.21512352],\n       [ 1.27810966, -0.60527457, -0.56135692,  1.26726358, -0.68502902,\n        -0.99036607, -0.23932877, -0.21512352],\n       [ 1.27810966,  0.95756382, -0.56135692, -0.78910182, -0.2855368 ,\n         1.20731221, -0.23932877, -0.21512352],\n       [-0.5149324 , -0.60527457, -0.56135692, -0.78910182,  0.11395542,\n         0.10847307, -0.23932877, -0.21512352]])"
                    },
                    "execution_count": 29,
                    "metadata": {},
                    "output_type": "execute_result"
                }
            ],
            "source": "from sklearn import preprocessing\n\nX= preprocessing.StandardScaler().fit(X).transform(X)\nX[0:5]"
        },
        {
            "cell_type": "markdown",
            "metadata": {},
            "source": "# KNN\n## K nearest neighbor"
        },
        {
            "cell_type": "code",
            "execution_count": 30,
            "metadata": {},
            "outputs": [
                {
                    "data": {
                        "text/plain": "array([1, 2, 1, 2, 2])"
                    },
                    "execution_count": 30,
                    "metadata": {},
                    "output_type": "execute_result"
                }
            ],
            "source": "from sklearn.neighbors import KNeighborsClassifier\nk = 4\nneigh = KNeighborsClassifier(n_neighbors = k).fit(X_train,y_train)\nyhat = neigh.predict(X_test)\nyhat[0:5]"
        },
        {
            "cell_type": "code",
            "execution_count": 31,
            "metadata": {},
            "outputs": [
                {
                    "data": {
                        "text/plain": "array([0.61328841, 0.60285512, 0.62366259, 0.6001064 , 0.63217474,\n       0.64340604, 0.65502158, 0.65008571, 0.67101141, 0.6558787 ,\n       0.66045989, 0.65912987, 0.66811491, 0.66034167])"
                    },
                    "execution_count": 31,
                    "metadata": {},
                    "output_type": "execute_result"
                }
            ],
            "source": "from sklearn import metrics\nKs = 15\nmean_acc = np.zeros((Ks-1))\nstd_acc = np.zeros((Ks-1))\nConfustionMx = [];\nfor n in range(1,Ks):\n    \n    neigh = KNeighborsClassifier(n_neighbors = n).fit(X_train,y_train)\n    yhat=neigh.predict(X_test)\n    mean_acc[n-1] = metrics.accuracy_score(y_test, yhat)\n\n    \n    std_acc[n-1]=np.std(yhat==y_test)/np.sqrt(yhat.shape[0])\n\nmean_acc"
        },
        {
            "cell_type": "code",
            "execution_count": 32,
            "metadata": {},
            "outputs": [
                {
                    "data": {
                        "image/png": "[encoded data removed]",
                        "text/plain": "<Figure size 432x288 with 1 Axes>"
                    },
                    "metadata": {
                        "needs_background": "light"
                    },
                    "output_type": "display_data"
                },
                {
                    "name": "stdout",
                    "output_type": "stream",
                    "text": "The best accuracy was with 0.6710114086421942 with k= 9\n"
                }
            ],
            "source": "plt.plot(range(1,Ks),mean_acc,'g')\nplt.fill_between(range(1,Ks),mean_acc - 1 * std_acc,mean_acc + 1 * std_acc, alpha=0.10)\nplt.legend(('Accuracy ', '+/- 3xstd'))\nplt.ylabel('Accuracy ')\nplt.xlabel('Number of Nabors (K)')\nplt.tight_layout()\nplt.show()\n\nprint( \"The best accuracy was with\", mean_acc.max(), \"with k=\", mean_acc.argmax()+1) "
        },
        {
            "cell_type": "markdown",
            "metadata": {},
            "source": "## model with K = 9"
        },
        {
            "cell_type": "code",
            "execution_count": 33,
            "metadata": {},
            "outputs": [
                {
                    "data": {
                        "text/plain": "array([1, 2, 2, 2, 2])"
                    },
                    "execution_count": 33,
                    "metadata": {},
                    "output_type": "execute_result"
                }
            ],
            "source": "k = 9\nneigh = KNeighborsClassifier(n_neighbors = k).fit(X_train,y_train)\nyhat = neigh.predict(X_test)\nyhat[0:5]"
        },
        {
            "cell_type": "markdown",
            "metadata": {},
            "source": "## KNN Model Evaluation "
        },
        {
            "cell_type": "code",
            "execution_count": 34,
            "metadata": {},
            "outputs": [],
            "source": "from sklearn.metrics import jaccard_similarity_score\nfrom sklearn.metrics import f1_score\nfrom sklearn.metrics import log_loss\nfrom sklearn.metrics import accuracy_score"
        },
        {
            "cell_type": "code",
            "execution_count": 35,
            "metadata": {},
            "outputs": [
                {
                    "name": "stdout",
                    "output_type": "stream",
                    "text": "KNN Jaccard index:  0.6710114086421942\nKNN F1-score:  0.670738826660399\n"
                }
            ],
            "source": "#Predict y\nknn_yhat = neigh.predict(X_test)\n\n# jaccard\nknn_jaccard = jaccard_similarity_score(y_test, knn_yhat)\nprint(\"KNN Jaccard index: \", knn_jaccard)\n\n\n# f1_score\nknn_f1_score = f1_score(y_test, knn_yhat, average='weighted')\nprint(\"KNN F1-score: \", knn_f1_score)"
        },
        {
            "cell_type": "markdown",
            "metadata": {},
            "source": "## Decision Tree"
        },
        {
            "cell_type": "code",
            "execution_count": 36,
            "metadata": {},
            "outputs": [
                {
                    "data": {
                        "text/plain": "DecisionTreeClassifier(class_weight=None, criterion='entropy', max_depth=7,\n            max_features=None, max_leaf_nodes=None,\n            min_impurity_decrease=0.0, min_impurity_split=None,\n            min_samples_leaf=1, min_samples_split=2,\n            min_weight_fraction_leaf=0.0, presort=False, random_state=None,\n            splitter='best')"
                    },
                    "execution_count": 36,
                    "metadata": {},
                    "output_type": "execute_result"
                }
            ],
            "source": "# import library DecisionTreeClassifier\nfrom sklearn.tree import DecisionTreeClassifier\n\n# create DecisionTreeClassifier as named d_tree\nd_tree = DecisionTreeClassifier(criterion = 'entropy', max_depth = 7)\n#train\nd_tree.fit(X_train,y_train)"
        },
        {
            "cell_type": "code",
            "execution_count": 37,
            "metadata": {},
            "outputs": [
                {
                    "data": {
                        "text/plain": "array([1, 2, 2, ..., 1, 2, 1])"
                    },
                    "execution_count": 37,
                    "metadata": {},
                    "output_type": "execute_result"
                }
            ],
            "source": "dt_yhat = d_tree.predict(X_test)\ndt_yhat"
        },
        {
            "cell_type": "markdown",
            "metadata": {},
            "source": "### Decision tree evaluation"
        },
        {
            "cell_type": "code",
            "execution_count": 38,
            "metadata": {},
            "outputs": [
                {
                    "name": "stdout",
                    "output_type": "stream",
                    "text": "DT Jaccard index:  0.6980847668026245\nDT F1-score:  0.6970328787447123\n"
                }
            ],
            "source": "# jaccard\ndt_jaccard = jaccard_similarity_score(y_test, dt_yhat)\nprint(\"DT Jaccard index: \", dt_jaccard)\n\n# f1_score\ndt_f1_score = f1_score(y_test, dt_yhat, average='weighted')\nprint(\"DT F1-score: \", dt_f1_score)\n"
        },
        {
            "cell_type": "markdown",
            "metadata": {},
            "source": "## Support Vector Machine"
        },
        {
            "cell_type": "code",
            "execution_count": 39,
            "metadata": {},
            "outputs": [
                {
                    "name": "stderr",
                    "output_type": "stream",
                    "text": "/opt/conda/envs/Python36/lib/python3.6/site-packages/sklearn/svm/base.py:196: FutureWarning: The default value of gamma will change from 'auto' to 'scale' in version 0.22 to account better for unscaled features. Set gamma explicitly to 'auto' or 'scale' to avoid this warning.\n  \"avoid this warning.\", FutureWarning)\n"
                },
                {
                    "data": {
                        "text/plain": "SVC(C=1.0, cache_size=200, class_weight=None, coef0=0.0,\n  decision_function_shape='ovr', degree=3, gamma='auto_deprecated',\n  kernel='rbf', max_iter=-1, probability=False, random_state=None,\n  shrinking=True, tol=0.001, verbose=False)"
                    },
                    "execution_count": 39,
                    "metadata": {},
                    "output_type": "execute_result"
                }
            ],
            "source": "# import SVM library\nfrom sklearn import svm\n\nclf = svm.SVC()\nclf.fit(X_train, y_train)"
        },
        {
            "cell_type": "code",
            "execution_count": 40,
            "metadata": {},
            "outputs": [
                {
                    "data": {
                        "text/plain": "array([1, 2, 2, ..., 1, 2, 1])"
                    },
                    "execution_count": 40,
                    "metadata": {},
                    "output_type": "execute_result"
                }
            ],
            "source": "svm_yhat = clf.predict(X_test)\nsvm_yhat"
        },
        {
            "cell_type": "markdown",
            "metadata": {},
            "source": "### SVM evaluation"
        },
        {
            "cell_type": "code",
            "execution_count": 41,
            "metadata": {},
            "outputs": [
                {
                    "name": "stdout",
                    "output_type": "stream",
                    "text": "SVM Jaccard index:  0.6956611692380446\nSVM F1-score:  0.6930330013606999\n"
                }
            ],
            "source": "# jaccard\nsvm_jaccard = jaccard_similarity_score(y_test, svm_yhat)\nprint(\"SVM Jaccard index: \", svm_jaccard)\n\n# f1_score\nsvm_f1_score = f1_score(y_test, svm_yhat, average='weighted')\nprint(\"SVM F1-score: \", svm_f1_score)\n"
        },
        {
            "cell_type": "markdown",
            "metadata": {},
            "source": "## Logistic Regression"
        },
        {
            "cell_type": "code",
            "execution_count": 42,
            "metadata": {},
            "outputs": [
                {
                    "data": {
                        "text/plain": "LogisticRegression(C=6, class_weight=None, dual=False, fit_intercept=True,\n          intercept_scaling=1, max_iter=100, multi_class='warn',\n          n_jobs=None, penalty='l2', random_state=None, solver='liblinear',\n          tol=0.0001, verbose=0, warm_start=False)"
                    },
                    "execution_count": 42,
                    "metadata": {},
                    "output_type": "execute_result"
                }
            ],
            "source": "#import Library LogisticRegression\nfrom sklearn.linear_model import LogisticRegression\n\n#Train\nlr = LogisticRegression(C=6, solver='liblinear').fit(X_train,y_train)\nlr\n"
        },
        {
            "cell_type": "code",
            "execution_count": 43,
            "metadata": {},
            "outputs": [
                {
                    "data": {
                        "text/plain": "array([2, 1, 2, ..., 1, 1, 1])"
                    },
                    "execution_count": 43,
                    "metadata": {},
                    "output_type": "execute_result"
                }
            ],
            "source": "lr_yhat = lr.predict(X_test)\nlr_yhat"
        },
        {
            "cell_type": "markdown",
            "metadata": {},
            "source": "### Logistic regression evaluation"
        },
        {
            "cell_type": "code",
            "execution_count": 44,
            "metadata": {},
            "outputs": [
                {
                    "name": "stdout",
                    "output_type": "stream",
                    "text": "LR Jaccard:  0.6304013714015487\nLR F1-score:  0.6285955849476118\nLR log loss:  0.6142731759680288\n"
                }
            ],
            "source": "lr_yhat_prob = lr.predict_proba(X_test)\n\n# jaccard\nlr_jaccard = jaccard_similarity_score(y_test, lr_yhat)\nprint(\"LR Jaccard: \", lr_jaccard)\n\n# f1_score\nlr_f1_score = f1_score(y_test, lr_yhat, average='weighted')\nprint(\"LR F1-score: \", lr_f1_score)\n\n# logloss\nlr_logloss = log_loss(y_test, lr_yhat_prob)\nprint(\"LR log loss: \", lr_logloss)\n"
        },
        {
            "cell_type": "markdown",
            "metadata": {},
            "source": "## Report\nThe accuracy of the built model using different evaluation metrics:"
        },
        {
            "cell_type": "code",
            "execution_count": 45,
            "metadata": {},
            "outputs": [
                {
                    "data": {
                        "text/html": "<div>\n<style scoped>\n    .dataframe tbody tr th:only-of-type {\n        vertical-align: middle;\n    }\n\n    .dataframe tbody tr th {\n        vertical-align: top;\n    }\n\n    .dataframe thead th {\n        text-align: right;\n    }\n</style>\n<table border=\"1\" class=\"dataframe\">\n  <thead>\n    <tr style=\"text-align: right;\">\n      <th>Algorithm</th>\n      <th>Jaccard</th>\n      <th>F1-score</th>\n      <th>LogLoss</th>\n    </tr>\n  </thead>\n  <tbody>\n    <tr>\n      <th>KNN</th>\n      <td>0.671011</td>\n      <td>0.670739</td>\n      <td>NA</td>\n    </tr>\n    <tr>\n      <th>Decision Tree</th>\n      <td>0.698085</td>\n      <td>0.697033</td>\n      <td>NA</td>\n    </tr>\n    <tr>\n      <th>SVM</th>\n      <td>0.695661</td>\n      <td>0.693033</td>\n      <td>NA</td>\n    </tr>\n    <tr>\n      <th>Logistic Regression</th>\n      <td>0.630401</td>\n      <td>0.628596</td>\n      <td>0.614273</td>\n    </tr>\n  </tbody>\n</table>\n</div>",
                        "text/plain": "Algorithm             Jaccard  F1-score   LogLoss\nKNN                  0.671011  0.670739        NA\nDecision Tree        0.698085  0.697033        NA\nSVM                  0.695661  0.693033        NA\nLogistic Regression  0.630401  0.628596  0.614273"
                    },
                    "execution_count": 45,
                    "metadata": {},
                    "output_type": "execute_result"
                }
            ],
            "source": "# create a jaccard list\njaccard_score = [knn_jaccard,dt_jaccard,svm_jaccard,lr_jaccard]\n\n# create a f1-score list\nf1_score = [knn_f1_score,dt_f1_score,svm_f1_score, lr_f1_score]\n\n# create a Log_Loss list\nlog_los = ['NA','NA','NA',lr_logloss]\n# fomulate the report format\ndf_report = pd.DataFrame(jaccard_score, index=['KNN','Decision Tree','SVM','Logistic Regression'])\ndf_report.columns = ['Jaccard']\ndf_report.insert(loc=1, column='F1-score', value=f1_score)\ndf_report.insert(loc=2, column='LogLoss', value=log_los)\ndf_report.columns.name = 'Algorithm'\ndf_report"
        },
        {
            "cell_type": "code",
            "execution_count": null,
            "metadata": {},
            "outputs": [],
            "source": ""
        }
    ],
    "metadata": {
        "kernelspec": {
            "display_name": "Python 3.6",
            "language": "python",
            "name": "python3"
        },
        "language_info": {
            "codemirror_mode": {
                "name": "ipython",
                "version": 3
            },
            "file_extension": ".py",
            "mimetype": "text/x-python",
            "name": "python",
            "nbconvert_exporter": "python",
            "pygments_lexer": "ipython3",
            "version": "3.6.9"
        }
    },
    "nbformat": 4,
    "nbformat_minor": 1
}